{
 "cells": [
  {
   "cell_type": "markdown",
   "id": "e3eb864e",
   "metadata": {},
   "source": [
    "1) What is the purpose of Python OOP? \n",
    "\n",
    "It binds the data & the function that work on that together as single unit so that No other part of code\n",
    "can access it."
   ]
  },
  {
   "cell_type": "markdown",
   "id": "0d1b7a02",
   "metadata": {},
   "source": [
    "2) Where does an inheritance search look for an attribute?\n",
    "\n",
    "Parent Product class"
   ]
  },
  {
   "cell_type": "markdown",
   "id": "4c0f9f61",
   "metadata": {},
   "source": [
    "3) How do you distinguish between a class object and an instance object?\n",
    "\n",
    "For example,\n",
    "\n",
    "Bike b1 = new bile();\n",
    "Bike b2 = new bike();\n",
    "Here we are creating two instances for storing two bike object values.\n",
    "Here b1 & b2 are just two instances because that do not contain any bike values. After storing values in instances \n",
    "they treated as class.\n",
    "By above example,\n",
    "Bike b1 = instance object & new bike() = class object."
   ]
  },
  {
   "cell_type": "markdown",
   "id": "da7d4cd1",
   "metadata": {},
   "source": [
    "4) What makes the first argument in a class's method function special?\n",
    "\n",
    "Self (It acts as pointer)"
   ]
  },
  {
   "cell_type": "markdown",
   "id": "48eef8ef",
   "metadata": {},
   "source": [
    "5) What is the purpose of __init__ method?\n",
    "\n",
    "By using __init__ we are sending basic concept, this method provides data to class.  "
   ]
  },
  {
   "cell_type": "markdown",
   "id": "ef4d975f",
   "metadata": {},
   "source": [
    "6) What is the process of creating class instances?\n",
    "\n",
    "class car:\n",
    "     def __init__(self,body_color,fuel_type):\n",
    "         self.a = body_color\n",
    "         self.b = fuel_type"
   ]
  },
  {
   "cell_type": "markdown",
   "id": "a03df65f",
   "metadata": {},
   "source": [
    "7) What is the process for creating a class?\n",
    "\n",
    "class car:\n",
    "     def __init__\n",
    "\n",
    "For creating class you always starts with 'def' statement."
   ]
  },
  {
   "cell_type": "markdown",
   "id": "9c24cdda",
   "metadata": {},
   "source": [
    "8) How would you define the superclasses of a class?\n",
    "\n",
    "It is the combination of two parential class. Basically it is known as child class.\n",
    "For example,\n",
    "\n",
    "class xyz:\n",
    "      def __init__(self,a,b,c)\n",
    "\n",
    "\n",
    "class xyz1:\n",
    "      def __init__(self,p,q,r)\n",
    "\n",
    "\n",
    "class child(xyz,xyz1):    {Superclass}\n",
    "    "
   ]
  }
 ],
 "metadata": {
  "kernelspec": {
   "display_name": "Python 3 (ipykernel)",
   "language": "python",
   "name": "python3"
  },
  "language_info": {
   "codemirror_mode": {
    "name": "ipython",
    "version": 3
   },
   "file_extension": ".py",
   "mimetype": "text/x-python",
   "name": "python",
   "nbconvert_exporter": "python",
   "pygments_lexer": "ipython3",
   "version": "3.9.7"
  }
 },
 "nbformat": 4,
 "nbformat_minor": 5
}
